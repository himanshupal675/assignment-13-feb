{
 "cells": [
  {
   "cell_type": "code",
   "execution_count": null,
   "id": "bb7317d6-677b-4b81-809e-13f7b480c5e3",
   "metadata": {},
   "outputs": [],
   "source": [
    "#Answer 1\n",
    "\"\"\"In Python, we can define custom exceptions by creating a new class that is derived \n",
    "from the built-in Exception class.\"\"\""
   ]
  },
  {
   "cell_type": "code",
   "execution_count": null,
   "id": "f563d494-fed4-49d2-99a2-7600eba46e58",
   "metadata": {},
   "outputs": [],
   "source": [
    "#Answer2\n",
    "try:\n",
    "    f=open(\"test.txt\",'r')\n",
    "    f.write(\"write into my file\")\n",
    "    f.close()\n",
    "except Exception as e:\n",
    "    print(\"this is my except block\",e)"
   ]
  },
  {
   "cell_type": "code",
   "execution_count": null,
   "id": "fcee1424-49c4-4664-938c-35ff7aab2fe9",
   "metadata": {},
   "outputs": [],
   "source": [
    "#Answer3\n",
    "\"\"\"ArithmeticError Exception is the base class for all errors that occur for numeric calculations.\n",
    "It is the base class for those built-in exceptions like: OverflowError,\n",
    "ZeroDivisionError, FloatingPointError\"\"\""
   ]
  },
  {
   "cell_type": "code",
   "execution_count": 1,
   "id": "da4c17b7-0f88-4673-8913-773a2831b06c",
   "metadata": {},
   "outputs": [
    {
     "name": "stdout",
     "output_type": "stream",
     "text": [
      "'key2'\n"
     ]
    }
   ],
   "source": [
    "#Answer 4\n",
    "\"\"\"LookupError Exception is the Base class for errors raised when something can't be found. \n",
    "The base class for the exceptions that are raised when a key or index used on a mapping or \n",
    "sequence is invalid: IndexError, KeyError. An IndexError is raised when a sequence reference\n",
    "is out of range.\"\"\"\n",
    "#Key error\n",
    "try:\n",
    "    d={\"key\":\"value\",1:[5,8,9,7]}\n",
    "    print(d[\"key2\"])\n",
    "except KeyError as k:\n",
    "    print(k)"
   ]
  },
  {
   "cell_type": "code",
   "execution_count": null,
   "id": "493d586d-2c30-4b0e-be11-56eca947f475",
   "metadata": {},
   "outputs": [],
   "source": [
    "#Index Error\n",
    "try:\n",
    "    l=[2,3,4,5]\n",
    "    print(l[7])\n",
    "except IndexError as i:\n",
    "    print(i)"
   ]
  },
  {
   "cell_type": "code",
   "execution_count": null,
   "id": "df0c53d2-0812-46ae-90a4-a84265c445bf",
   "metadata": {},
   "outputs": [],
   "source": [
    "#Answer 5\n",
    "#import error\n",
    "\"\"\"In Python, ImportError occurs when the Python program tries to import module which does \n",
    "not exist in the private table.\"\"\"\n",
    "try:\n",
    "    import sudh\n",
    "except ImportError as i:\n",
    "    print(i)\n",
    "#Module not found error\n",
    "\"\"\"Sometimes, Python throws the ModuleNotFoundError afterward. What does this error mean \n",
    "in Python? As the name implies, this error occurs when you're trying to access or use\n",
    "a module that cannot be found. In the case of the title, the \"module named Python\" cannot \n",
    "be found. Python here can be any module.\"\"\""
   ]
  },
  {
   "cell_type": "code",
   "execution_count": null,
   "id": "ad79a0bb-173f-4093-9ef5-ceadb42c6477",
   "metadata": {},
   "outputs": [],
   "source": [
    "#Answer 6\n",
    "\"\"\"This section describes best practices for handling and creating exceptions.\n",
    "1.  Use try/catch/finally blocks to recover from errors or release resources. ...\n",
    "2.  Handle common conditions without throwing exceptions. ...\n",
    "3.  always try to log your error.\n",
    "4.  always avoid to write a multiple exception handling\"\"\""
   ]
  }
 ],
 "metadata": {
  "kernelspec": {
   "display_name": "Python 3 (ipykernel)",
   "language": "python",
   "name": "python3"
  },
  "language_info": {
   "codemirror_mode": {
    "name": "ipython",
    "version": 3
   },
   "file_extension": ".py",
   "mimetype": "text/x-python",
   "name": "python",
   "nbconvert_exporter": "python",
   "pygments_lexer": "ipython3",
   "version": "3.10.8"
  }
 },
 "nbformat": 4,
 "nbformat_minor": 5
}
